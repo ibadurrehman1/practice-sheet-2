{
 "cells": [
  {
   "cell_type": "markdown",
   "metadata": {},
   "source": [
    "# Python User Define Function Practice Activity - 2 "
   ]
  },
  {
   "cell_type": "markdown",
   "metadata": {},
   "source": [
    "Asst. Prof. Syed Faisal Ali              $\\;\\;\\;\\;\\;\\;$              Programming Fundamentals - FALL 2019 $\\;\\;\\;\\;\\;\\;$ Software Engineering                     $\\;\\;\\;\\;\\;\\;$                   Dated: 27 Nov 2019"
   ]
  },
  {
   "cell_type": "markdown",
   "metadata": {},
   "source": [
    "Question 1: Create a function to find the following:\n",
    "If the base of triangle is 3 cm long and its equilateral triangle and the radius of circle is 1.5 cm then find the area of triangle shaded. \n"
   ]
  },
  {
   "cell_type": "markdown",
   "metadata": {},
   "source": [
    "![proj](q1.jpg)"
   ]
  },
  {
   "cell_type": "code",
   "execution_count": 1,
   "metadata": {},
   "outputs": [
    {
     "name": "stdout",
     "output_type": "stream",
     "text": [
      "Area of Shaded Regoin = 16.31cm³\n"
     ]
    }
   ],
   "source": [
    "#2:46 to 2:52\n",
    "from math import pi,sqrt\n",
    "def areas():\n",
    "    base_t = 3\n",
    "    radius_c = 1.5\n",
    "    height_t = sqrt(3**2 - 1.5**2)\n",
    "    Area_T = 6 * (( base_t * height_t)/2)\n",
    "    Area_C = pi * radius_c**2\n",
    "    Shaded = Area_T-Area_C\n",
    "    print(\"Area of Shaded Regoin = {0:.{1}f}cm\\u00b3\".format(Shaded,2))\n",
    "areas()    "
   ]
  },
  {
   "cell_type": "markdown",
   "metadata": {},
   "source": [
    "Question 2: Create a function which can read a dictionary of your family members such as 5 members. \n",
    "1 Abbu, 1 Ammi, 2 Brothers 1 Sister. Now feed this data in dictionary in terms of name and relations.\n",
    "The UDF will ask findrelation() in this you will enter Brother it will return the names of two brothers you have inserted. In case if the relation is not found it will return “Sorry the relation doesn’t exist in your family.” \n"
   ]
  },
  {
   "cell_type": "code",
   "execution_count": 5,
   "metadata": {},
   "outputs": [
    {
     "name": "stdout",
     "output_type": "stream",
     "text": [
      "Sorry Relation Does not exist in your family\n",
      "['Abdul Rehman']\n"
     ]
    }
   ],
   "source": [
    "#2:55 to 3:09\n",
    "def f_relation(Relation):\n",
    "    family = {'mother' : ['Shaista Israr'] , 'father' : ['Muhammad Asghar'] ,'brother' : ['Abdul Rehman'] }\n",
    "    if Relation.lower() in family:\n",
    "        print(family.get(Relation.lower()))\n",
    "    else:\n",
    "        print(\"Sorry Relation Does not exist in your family\")\n",
    "f_relation('SISTER')\n",
    "f_relation('brother')"
   ]
  },
  {
   "cell_type": "markdown",
   "metadata": {},
   "source": [
    "Question 3: Create a function to find the following:\n",
    "If the base of triangle is 5 cm long and its equilateral triangle and the radius of circle is 2.25 cm then find the area of triangle shaded. \n"
   ]
  },
  {
   "cell_type": "markdown",
   "metadata": {},
   "source": [
    "![proj](q3.jpg)"
   ]
  },
  {
   "cell_type": "code",
   "execution_count": 10,
   "metadata": {},
   "outputs": [
    {
     "name": "stdout",
     "output_type": "stream",
     "text": [
      "Area of Shaded Regoin = 15.90cm³\n"
     ]
    }
   ],
   "source": [
    "#3:11 to 3:16\n",
    "def area_s1():\n",
    "    base_t = 5\n",
    "    radius_c = 2.25\n",
    "    height_t = sqrt(3**2 - 1.5**2)\n",
    "    Area_T = 6 * (.5 * base_t * height_t)\n",
    "    Area_C = pi * radius_c**2\n",
    "    \n",
    "    print(\"Area of Shaded Regoin = {0:.{1}f}cm\\u00b3\".format(Area_C,2))\n",
    "    \n",
    "area_s1()"
   ]
  },
  {
   "cell_type": "markdown",
   "metadata": {},
   "source": [
    "Question 4:\n",
    "Create a function that takes a list of random numbers from users and add only those which are even. If all the numbers are odd it will return sorry no even number found.\n"
   ]
  },
  {
   "cell_type": "code",
   "execution_count": 13,
   "metadata": {},
   "outputs": [
    {
     "name": "stdout",
     "output_type": "stream",
     "text": [
      "Enter the Numbers : 1\n",
      "Sorry no even number found\n",
      "Enter the Numbers : 2\n",
      "Enter the Numbers : 3\n",
      "Sorry no even number found\n",
      "Enter the Numbers : 45\n",
      "Sorry no even number found\n",
      "Enter the Numbers : 5\n",
      "Sorry no even number found\n",
      "Enter the Numbers : 6\n",
      "Total Sum of Even Numbers Only =  8\n"
     ]
    }
   ],
   "source": [
    "#3:17 to 3:29\n",
    "def even():\n",
    "    x = [0,0,0,0,0,0]\n",
    "    sum = 0\n",
    "    for i in range(6):\n",
    "        x[i]=int(input(\"Enter the Numbers : \"))\n",
    "        if x[i]%2!=0:\n",
    "            print(\"Sorry no even number found\")\n",
    "    \n",
    "    for i in x:\n",
    "        if i%2==0:\n",
    "            sum = sum + i\n",
    "    print(\"Total Sum of Even Numbers Only = \",sum)\n",
    "even()"
   ]
  },
  {
   "cell_type": "markdown",
   "metadata": {},
   "source": [
    "Question 5:\n",
    "Write a function which can take a list of numbers and it will return sorted list.\n"
   ]
  },
  {
   "cell_type": "code",
   "execution_count": 14,
   "metadata": {},
   "outputs": [
    {
     "name": "stdout",
     "output_type": "stream",
     "text": [
      "Enter the Numbers : 1\n",
      "Enter the Numbers : 2\n",
      "Enter the Numbers : 3\n",
      "Enter the Numbers : 45\n",
      "Enter the Numbers : 63\n",
      "Enter the Numbers : 24\n",
      "[1, 2, 3, 24, 45, 63]\n"
     ]
    }
   ],
   "source": [
    "#3:30 to 3:37\n",
    "def sort():\n",
    "    x = [0,0,0,0,0,0]\n",
    "    sum = 0\n",
    "    for i in range(6):\n",
    "        x[i]=int(input(\"Enter the Numbers : \"))\n",
    "    x.sort()\n",
    "    print(x)\n",
    "sort()"
   ]
  },
  {
   "cell_type": "markdown",
   "metadata": {},
   "source": [
    "Question 6:\n",
    "Write a function that will take the radius and return the perimeter and area of circle with 5% increment.\n"
   ]
  },
  {
   "cell_type": "code",
   "execution_count": 21,
   "metadata": {},
   "outputs": [
    {
     "name": "stdout",
     "output_type": "stream",
     "text": [
      "Original Area : 12.57cm² \n",
      "Area with 5% increment : 13.19cm \n",
      "\n",
      "\n",
      "Original Perimeter : 12.57cm² \n",
      "Perimeter with 5% increment : 13.19cm \n"
     ]
    }
   ],
   "source": [
    "#3:37 to 3 44\n",
    "from math import pi\n",
    "def increment(r):\n",
    "    Area = pi * r**2\n",
    "    Perimeter = 2 * pi * r\n",
    "    AreaI= (Area/100)*105\n",
    "    PerimeterI = (Perimeter/100)*105\n",
    "    print(\"Original Area : {0:.{1}f}cm\\u00b2 \".format(Area,2))\n",
    "    print(\"Area with 5% increment : {0:.{1}f}cm \".format(AreaI,2))\n",
    "    print(\"\\n\")\n",
    "    print(\"Original Perimeter : {0:.{1}f}cm\\u00b2 \".format(Perimeter,2))\n",
    "    print(\"Perimeter with 5% increment : {0:.{1}f}cm \".format(PerimeterI,2))\n",
    "increment(2)"
   ]
  },
  {
   "cell_type": "markdown",
   "metadata": {},
   "source": [
    "Question 7:\n",
    "Write a function that will take the strings as argument and return number of vowels and consonants.\n"
   ]
  },
  {
   "cell_type": "code",
   "execution_count": 22,
   "metadata": {},
   "outputs": [
    {
     "name": "stdout",
     "output_type": "stream",
     "text": [
      "Enter a String : ibad ur rehman\n",
      "Total Number of Vowels :  5\n",
      "Total Number of Constant :  9\n"
     ]
    }
   ],
   "source": [
    "#3:50 to 3:54\n",
    "def counting():\n",
    "    total = 0\n",
    "    count = 0\n",
    "    string = input(\"Enter a String : \")\n",
    "    \n",
    "    for i in string:\n",
    "        if i in 'AEIOUaeiou':\n",
    "            total = total + 1\n",
    "        else:\n",
    "            count = count + 1\n",
    "    print(\"Total Number of Vowels : \",total)\n",
    "    print(\"Total Number of Constant : \",count)\n",
    "counting()"
   ]
  },
  {
   "cell_type": "markdown",
   "metadata": {},
   "source": [
    "Question 8:\n",
    "Write a function that will take length and breadth for a rectangle and return perimeter and area of rectangle with 8% increment.\n"
   ]
  },
  {
   "cell_type": "code",
   "execution_count": 24,
   "metadata": {},
   "outputs": [
    {
     "name": "stdout",
     "output_type": "stream",
     "text": [
      "Enter length of Rectangle : 30\n",
      "Enter Bredth of Rectangle : 20\n",
      "Original Area : 600.00cm² \n",
      "Area with 8% increment : 648.00cm \n",
      "\n",
      "\n",
      "Original Perimeter : 100.00cm² \n",
      "Perimeter with 8% increment : 108.00cm \n"
     ]
    }
   ],
   "source": [
    "#3:54 to 4:01\n",
    "def increment():\n",
    "    l = int(input(\"Enter length of Rectangle : \"))\n",
    "    b = int(input(\"Enter Bredth of Rectangle : \"))\n",
    "    AreaO = l * b\n",
    "    PerimeterO = 2*l + 2*b\n",
    "    AreaI= (AreaO/100)*108\n",
    "    PerimeterI = (PerimeterO/100)*108\n",
    "    print(\"Original Area : {0:.{1}f}cm\\u00b2 \".format(AreaO,2))\n",
    "    print(\"Area with 8% increment : {0:.{1}f}cm \".format(AreaI,2))\n",
    "    print(\"\\n\")\n",
    "    print(\"Original Perimeter : {0:.{1}f}cm\\u00b2 \".format(PerimeterO,2))\n",
    "    print(\"Perimeter with 8% increment : {0:.{1}f}cm \".format(PerimeterI,2))\n",
    "increment()\n"
   ]
  },
  {
   "cell_type": "markdown",
   "metadata": {},
   "source": [
    "Question 9:\n",
    "Write a function that can take the numbers in strings. From string find which number is even and which one is odd. Save them in two different lists and generate the result.\n"
   ]
  },
  {
   "cell_type": "code",
   "execution_count": 2,
   "metadata": {},
   "outputs": [
    {
     "name": "stdout",
     "output_type": "stream",
     "text": [
      "Enter a Number : 1\n",
      "Enter a Number : 2\n",
      "Enter a Number : 3\n",
      "Enter a Number : 4\n",
      "Enter a Number : 5\n",
      "Enter a Number : 6\n",
      "Even Numbers :  ['2', '4', '6']\n",
      "Odd Numbers  :  ['1', '3', '5']\n"
     ]
    }
   ],
   "source": [
    "#4:03 to 4:12\n",
    "def evod():\n",
    "    x = []\n",
    "    y = []\n",
    "    for i in range(6):\n",
    "        num = str(input(\"Enter a Number : \"))\n",
    "        if int(num)%2==0:\n",
    "            x.append(num)\n",
    "        else:\n",
    "            y.append(num)\n",
    "    print(\"Even Numbers : \",x)\n",
    "    print(\"Odd Numbers  : \",y)\n",
    "evod()"
   ]
  },
  {
   "cell_type": "markdown",
   "metadata": {},
   "source": [
    "#### Question 10:\n",
    "Write a function which will take the string from the user and return how many alphabets have been used in it and which alphabets are missing.\n"
   ]
  },
  {
   "cell_type": "code",
   "execution_count": 11,
   "metadata": {},
   "outputs": [
    {
     "name": "stdout",
     "output_type": "stream",
     "text": [
      "Number of Alphabets Used :  ['i', 'b', 'a', 'd', 'u', 'r', 'e', 'h', 'm', 'n'] and 10\n",
      "\n",
      "Aphabets not used \n",
      "['c', 'f', 'g', 'j', 'k', 'l', 'o', 'p', 'q', 's', 't', 'v', 'w', 'x', 'y', 'z']\n"
     ]
    }
   ],
   "source": [
    "#4:13 to 4:29\n",
    "def counter(y):\n",
    "    count = 0\n",
    "    x = ['a','b','c','d','e','f','g','h','i','j','k','l','m','n','o','p','q','r','s','t','u','v','w','x','y','z']\n",
    "    y.casefold()\n",
    "    z=[]\n",
    "    for i in y:\n",
    "        if i in x and i not in z:\n",
    "            count = count + 1 \n",
    "            c = z.append(i)\n",
    "            x.remove(i)\n",
    "    print(\"Number of Alphabets Used : \" ,z,\"and\",len(z))\n",
    "    print(\"\\nAphabets not used \")\n",
    "    print(x)\n",
    "    \n",
    "counter('ibad ur rehman')"
   ]
  },
  {
   "cell_type": "markdown",
   "metadata": {},
   "source": [
    "Question 11:\n",
    "Write a function that will take verbs in words and return a list of verbs with continuous tense by adding (ing) at the end of each verb.\n"
   ]
  },
  {
   "cell_type": "code",
   "execution_count": 1,
   "metadata": {},
   "outputs": [
    {
     "name": "stdout",
     "output_type": "stream",
     "text": [
      "Enter verbs : talk\n",
      "Enter verbs : walk\n",
      "Enter verbs : look\n",
      "Enter verbs : think\n",
      "['talking', 'walking', 'looking', 'thinking']\n"
     ]
    }
   ],
   "source": [
    "#4:31 to 4:33\n",
    "def ing():\n",
    "    verb = ['','','','']\n",
    "    y = ['','','','']\n",
    "    for i in range(4):\n",
    "        verb[i] = input(\"Enter verbs : \")\n",
    "    \n",
    "    k = 0\n",
    "    for x in verb:\n",
    "        y[k]=x+\"ing\"\n",
    "        k = k+1\n",
    "    print(y)\n",
    "ing()"
   ]
  },
  {
   "cell_type": "markdown",
   "metadata": {},
   "source": [
    "Question 12:\n",
    "Make a function which can take two radius of circles and find the areas of it and subtract smaller one from larger one and tell the remaining area of circle.\n"
   ]
  },
  {
   "cell_type": "code",
   "execution_count": 2,
   "metadata": {},
   "outputs": [
    {
     "name": "stdout",
     "output_type": "stream",
     "text": [
      "Enter radius  of Circle 1 : 5\n",
      "Enter radius of Circle 2: 53\n",
      "Area of Circle = 78.54cm²\n",
      "Area of Circle = 8824.73cm²\n",
      "Subtracting Area of Square from Area of Circle , Remaining Area is 8746.19cm²\n"
     ]
    }
   ],
   "source": [
    "#7:23 to 7:28\n",
    "from math import pi\n",
    "def RemainingArea():\n",
    "    radius1=eval(input(\"Enter radius  of Circle 1 : \"))\n",
    "    radius2=eval(input(\"Enter radius of Circle 2: \"))\n",
    "    \n",
    "    Acircle1 = pi * radius1**2\n",
    "    print(\"Area of Circle = {0:.{1}f}cm\\u00b2\".format(Acircle1,2))\n",
    "    Acircle2 = pi * radius2**2\n",
    "    print(\"Area of Circle = {0:.{1}f}cm\\u00b2\".format(Acircle2,2))\n",
    "    \n",
    "    if Acircle1 > Acircle2 :\n",
    "        Remaining = ACircle1-Acircle2\n",
    "        print(\"Subtracting Area of Circle from Area of Square , Remaining Area is {0:.{1}f}cm\\u00b2\".format(Remaining,2))\n",
    "    elif Acircle2 > Acircle1 :\n",
    "        Remaining = Acircle2-Acircle1\n",
    "        print(\"Subtracting Area of Square from Area of Circle , Remaining Area is {0:.{1}f}cm\\u00b2\".format(Remaining,2))\n",
    "\n",
    "RemainingArea()\n"
   ]
  },
  {
   "cell_type": "markdown",
   "metadata": {},
   "source": [
    "Question 13:\n",
    "Write a function that will take a string and calculate number of Upper case letters and lower case letters.\n"
   ]
  },
  {
   "cell_type": "code",
   "execution_count": 3,
   "metadata": {},
   "outputs": [
    {
     "name": "stdout",
     "output_type": "stream",
     "text": [
      "Enter a String : IbaD Ur REhMan\n",
      "Total Number of Uppercase :  6\n",
      "Total Number of Lowercase :  6\n"
     ]
    }
   ],
   "source": [
    "#7:31 to 7:38\n",
    "def counting():\n",
    "    total = 0\n",
    "    count = 0\n",
    "    string = input(\"Enter a String : \")\n",
    "    \n",
    "    for i in string:\n",
    "        if i in 'ABCDEFGHIJKLMNOPQRSTUVWXYZ':\n",
    "            total = total + 1\n",
    "        else:\n",
    "            if i in 'abbcdefghijklmnopqrstuvwxyz':\n",
    "                count = count + 1\n",
    "    print(\"Total Number of Uppercase : \",total)\n",
    "    print(\"Total Number of Lowercase : \",count)\n",
    "counting()"
   ]
  },
  {
   "cell_type": "markdown",
   "metadata": {},
   "source": [
    "Question 14:\n",
    "Write a function which will take length and breadth of two rectangles. Subtract the smaller rectangle from the larger rectangle and return the area left behind.\n"
   ]
  },
  {
   "cell_type": "code",
   "execution_count": 4,
   "metadata": {},
   "outputs": [
    {
     "name": "stdout",
     "output_type": "stream",
     "text": [
      "Enter Length of Rectangle 1 : 5\n",
      "Enter Bredth of Rectangle 1 : 8\n",
      "Enter Length of Rectangle 2 : 3\n",
      "Enter Bredth of Rectangle 2 : 7\n",
      "Area of Bigger rectangle subtracted from smaller Rectangle : 19.00cm²\n"
     ]
    }
   ],
   "source": [
    "#7:38 to 7:49\n",
    "def area():\n",
    "    l1=eval(input(\"Enter Length of Rectangle 1 : \"))\n",
    "    b1=eval(input(\"Enter Bredth of Rectangle 1 : \"))\n",
    "    l2=eval(input(\"Enter Length of Rectangle 2 : \"))\n",
    "    b2=eval(input(\"Enter Bredth of Rectangle 2 : \"))\n",
    "    area1 = l1*b1\n",
    "    area2 = l2*b2\n",
    "    if area1 > area2:\n",
    "        Remaining = area1-area2\n",
    "        print(\"Area of Bigger rectangle subtracted from smaller Rectangle : {0:.{1}f}cm\\u00b2\".format(Remaining,2))\n",
    "    if area2 > area1:\n",
    "        Remaining = area2-area1\n",
    "        print(\"Area of Bigger rectangle subtracted from smaller Rectangle : {0:.{1}f}cm\\u00b2\".format(Remaining,2))  \n",
    "area()        "
   ]
  },
  {
   "cell_type": "markdown",
   "metadata": {},
   "source": [
    "Question 15:\n",
    "Create a function that can add the fractions in series such as 1 to 8 = 1/8+1/7+1/6+1/5 …… ½ and return the result in fraction not in decimal.\n"
   ]
  },
  {
   "cell_type": "code",
   "execution_count": 5,
   "metadata": {},
   "outputs": [
    {
     "name": "stdout",
     "output_type": "stream",
     "text": [
      "761/280\n"
     ]
    }
   ],
   "source": [
    "#7:52 to 7:59\n",
    "def f():\n",
    "    from fractions import Fraction\n",
    "    sum = 0\n",
    "    for i in range(1,9):\n",
    "        sum = sum + Fraction(1,i) \n",
    "        \n",
    "    print(sum)\n",
    "f()"
   ]
  },
  {
   "cell_type": "markdown",
   "metadata": {},
   "source": [
    "Question 16:\n",
    "Write a function which will take height and base for a triangle and \n"
   ]
  },
  {
   "cell_type": "code",
   "execution_count": 15,
   "metadata": {},
   "outputs": [
    {
     "name": "stdout",
     "output_type": "stream",
     "text": [
      "enter the height: 3\n",
      "enter the base: 4\n"
     ]
    }
   ],
   "source": [
    "#7:59 to 8:01\n",
    "def triangle():\n",
    "    h=int(input(\"enter the height: \"))\n",
    "    b=int(input(\"enter the base: \"))\n",
    "triangle()"
   ]
  },
  {
   "cell_type": "markdown",
   "metadata": {},
   "source": [
    "Question 17:\n",
    "Write a function which will take a list of fruits names. The function will return how many alphabets are repetitive in the names of fruits and how many are unique letters.\n"
   ]
  },
  {
   "cell_type": "code",
   "execution_count": 14,
   "metadata": {},
   "outputs": [
    {
     "name": "stdout",
     "output_type": "stream",
     "text": [
      "Enter Fruit Name : apple\n",
      "Enter Fruit Name : banana\n",
      "Enter Fruit Name : mango\n",
      "Enter Fruit Name : pineapplw\n",
      "Number of Unique letter :  4\n",
      "Number of Repetitive Letter :  21\n"
     ]
    }
   ],
   "source": [
    "#8:02 to 8:14\n",
    "def counter():\n",
    "    j = ['']\n",
    "    count = 0\n",
    "    total = 0\n",
    "    fruits=['','','','']\n",
    "    for i in range(4):\n",
    "        fruits[i]=input(\"Enter Fruit Name : \")\n",
    "    for i in fruits:\n",
    "        for x in i :\n",
    "            if i in j:\n",
    "                count = count + 1 \n",
    "            if i not in j:\n",
    "                j.append(i)\n",
    "                total = total + 1 \n",
    "    print(\"Number of Unique letter : \",total)\n",
    "    print(\"Number of Repetitive Letter : \",count)\n",
    "counter()"
   ]
  },
  {
   "cell_type": "markdown",
   "metadata": {},
   "source": [
    "Question 18:\n",
    "Write a function that can take square length and radius of circle. Find the area of both and subtract the smallest shape from largest one and return the remaining shape area.\n"
   ]
  },
  {
   "cell_type": "code",
   "execution_count": 18,
   "metadata": {},
   "outputs": [
    {
     "name": "stdout",
     "output_type": "stream",
     "text": [
      "Enter length of square : 3\n",
      "Enter radius of Circle : 62\n",
      "Area of Square = 6.00cm²\n",
      "Area of Circle = 12076.28cm²\n",
      "Subtracting Area of Square from Area of Circle , Remaining Area is 12070.28cm²\n"
     ]
    }
   ],
   "source": [
    "#8:21 to 8:3:32\n",
    "from math import pi\n",
    "def RemainingArea():\n",
    "    length=eval(input(\"Enter length of square : \"))\n",
    "    radius=eval(input(\"Enter radius of Circle : \"))\n",
    "    #Area of Square\n",
    "    Asquare = 2 * length\n",
    "    print(\"Area of Square = {0:.{1}f}cm\\u00b2\".format(Asquare,2))\n",
    "    Acircle = pi * radius**2\n",
    "    print(\"Area of Circle = {0:.{1}f}cm\\u00b2\".format(Acircle,2))\n",
    "    \n",
    "    if Asquare > Acircle :\n",
    "        Remaining = Asquare-Acircle\n",
    "        print(\"Subtracting Area of Circle from Area of Square , Remaining Area is {0:.{1}f}cm\\u00b2\".format(Remaining,2))\n",
    "    elif Acircle > Asquare :\n",
    "        Remaining = Acircle-Asquare\n",
    "        print(\"Subtracting Area of Square from Area of Circle , Remaining Area is {0:.{1}f}cm\\u00b2\".format(Remaining,2))\n",
    "RemainingArea()"
   ]
  },
  {
   "cell_type": "code",
   "execution_count": null,
   "metadata": {},
   "outputs": [],
   "source": []
  }
 ],
 "metadata": {
  "kernelspec": {
   "display_name": "Python 3",
   "language": "python",
   "name": "python3"
  },
  "language_info": {
   "codemirror_mode": {
    "name": "ipython",
    "version": 3
   },
   "file_extension": ".py",
   "mimetype": "text/x-python",
   "name": "python",
   "nbconvert_exporter": "python",
   "pygments_lexer": "ipython3",
   "version": "3.7.4"
  }
 },
 "nbformat": 4,
 "nbformat_minor": 2
}
